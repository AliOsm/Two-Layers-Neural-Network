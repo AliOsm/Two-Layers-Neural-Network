{
 "cells": [
  {
   "cell_type": "markdown",
   "metadata": {},
   "source": [
    "## 1 - Packages\n",
    "\n",
    "- [numpy](www.numpy.org)\n",
    "- [tensorflow](https://www.tensorflow.org/)"
   ]
  },
  {
   "cell_type": "code",
   "execution_count": 21,
   "metadata": {},
   "outputs": [],
   "source": [
    "import numpy as np\n",
    "import tensorflow as tf\n",
    "from tensorflow import keras"
   ]
  },
  {
   "cell_type": "markdown",
   "metadata": {},
   "source": [
    "## 2 - Load the dataset\n",
    "\n",
    "Load the [dataset](https://archive.ics.uci.edu/ml/datasets/banknote+authentication#) from `data.csv` file and split it to train (60%) and test (40%) sets."
   ]
  },
  {
   "cell_type": "code",
   "execution_count": 22,
   "metadata": {},
   "outputs": [],
   "source": [
    "data = np.genfromtxt('data.csv', delimiter=',')\n",
    "np.random.shuffle(data)\n",
    "m = data.shape[0]\n",
    "\n",
    "X_train = data[:int(m * 0.6), 0:4]\n",
    "Y_train = data[:int(m * 0.6), 4:]\n",
    "X_test = data[int(m * 0.6):, 0:4]\n",
    "Y_test = data[int(m * 0.6):, 4:]"
   ]
  },
  {
   "cell_type": "markdown",
   "metadata": {},
   "source": [
    "## 3 - Build the model\n",
    "\n",
    "- 3.1 - Setup the layers\n",
    "- 3.2 - Compile the model\n",
    "- 3.3 - Train the model\n",
    "- 3.4 - Evaluate accuracy"
   ]
  },
  {
   "cell_type": "markdown",
   "metadata": {},
   "source": [
    "### 3.1 - Setup the layers"
   ]
  },
  {
   "cell_type": "code",
   "execution_count": 23,
   "metadata": {},
   "outputs": [],
   "source": [
    "model = keras.Sequential([\n",
    "    keras.layers.Dense(4, activation=tf.nn.relu),\n",
    "    keras.layers.Dense(8, activation=tf.nn.relu),\n",
    "    keras.layers.Dense(1, activation=tf.nn.sigmoid)\n",
    "])"
   ]
  },
  {
   "cell_type": "markdown",
   "metadata": {},
   "source": [
    "### 3.2 - Compile the model"
   ]
  },
  {
   "cell_type": "code",
   "execution_count": 24,
   "metadata": {},
   "outputs": [],
   "source": [
    "model.compile(optimizer=tf.train.GradientDescentOptimizer(learning_rate=0.0075), \n",
    "              loss='binary_crossentropy',\n",
    "              metrics=['accuracy'])"
   ]
  },
  {
   "cell_type": "markdown",
   "metadata": {},
   "source": [
    "### 3.3 - Train the model"
   ]
  },
  {
   "cell_type": "code",
   "execution_count": 25,
   "metadata": {},
   "outputs": [
    {
     "name": "stdout",
     "output_type": "stream",
     "text": [
      "Epoch 1/10\n",
      "823/823 [==============================] - 0s 160us/step - loss: 0.7955 - acc: 0.6051\n",
      "Epoch 2/10\n",
      "823/823 [==============================] - 0s 22us/step - loss: 0.5403 - acc: 0.7303\n",
      "Epoch 3/10\n",
      "823/823 [==============================] - 0s 32us/step - loss: 0.4852 - acc: 0.7825\n",
      "Epoch 4/10\n",
      "823/823 [==============================] - 0s 24us/step - loss: 0.4512 - acc: 0.8129\n",
      "Epoch 5/10\n",
      "823/823 [==============================] - 0s 23us/step - loss: 0.4225 - acc: 0.8493\n",
      "Epoch 6/10\n",
      "823/823 [==============================] - 0s 25us/step - loss: 0.3933 - acc: 0.8627\n",
      "Epoch 7/10\n",
      "823/823 [==============================] - 0s 25us/step - loss: 0.3647 - acc: 0.8748\n",
      "Epoch 8/10\n",
      "823/823 [==============================] - 0s 28us/step - loss: 0.3362 - acc: 0.8906\n",
      "Epoch 9/10\n",
      "823/823 [==============================] - 0s 24us/step - loss: 0.3079 - acc: 0.9101\n",
      "Epoch 10/10\n",
      "823/823 [==============================] - 0s 23us/step - loss: 0.2789 - acc: 0.9259\n"
     ]
    },
    {
     "data": {
      "text/plain": [
       "<tensorflow.python.keras.callbacks.History at 0x7effb06407f0>"
      ]
     },
     "execution_count": 25,
     "metadata": {},
     "output_type": "execute_result"
    }
   ],
   "source": [
    "model.fit(X_train, Y_train, epochs=10)"
   ]
  },
  {
   "cell_type": "markdown",
   "metadata": {},
   "source": [
    "### 3.4 - Evaluate accuracy"
   ]
  },
  {
   "cell_type": "code",
   "execution_count": 28,
   "metadata": {},
   "outputs": [
    {
     "name": "stdout",
     "output_type": "stream",
     "text": [
      "549/549 [==============================] - 0s 15us/step\n",
      "Test accuracy: 0.9417122041158554\n"
     ]
    }
   ],
   "source": [
    "_, test_acc = model.evaluate(X_test, Y_test)\n",
    "print('Test accuracy:', test_acc)"
   ]
  }
 ],
 "metadata": {
  "kernelspec": {
   "display_name": "tensorflowenv",
   "language": "python",
   "name": "tensorflowenv"
  },
  "language_info": {
   "codemirror_mode": {
    "name": "ipython",
    "version": 3
   },
   "file_extension": ".py",
   "mimetype": "text/x-python",
   "name": "python",
   "nbconvert_exporter": "python",
   "pygments_lexer": "ipython3",
   "version": "3.6.6"
  }
 },
 "nbformat": 4,
 "nbformat_minor": 2
}
